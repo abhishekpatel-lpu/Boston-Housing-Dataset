{
 "cells": [
  {
   "cell_type": "code",
   "execution_count": 2,
   "metadata": {},
   "outputs": [
    {
     "name": "stdout",
     "output_type": "stream",
     "text": [
      "      CRIM   ZN  INDUS  CHAS    NOX     RM   AGE     DIS  RAD  TAX  PTRATIO  \\\n",
      "0  0.02731  0.0   7.07     0  0.469  6.421  78.9  4.9671    2  242     17.8   \n",
      "1  0.02729  0.0   7.07     0  0.469  7.185  61.1  4.9671    2  242     17.8   \n",
      "2  0.03237  0.0   2.18     0  0.458  6.998  45.8  6.0622    3  222     18.7   \n",
      "3  0.06905  0.0   2.18     0  0.458  7.147  54.2  6.0622    3  222     18.7   \n",
      "4  0.02985  0.0   2.18     0  0.458  6.430  58.7  6.0622    3  222     18.7   \n",
      "\n",
      "        B  LSTAT  MEDV  \n",
      "0  396.90   9.14  21.6  \n",
      "1  392.83   4.03  34.7  \n",
      "2  394.63   2.94  33.4  \n",
      "3  396.90   5.33  36.2  \n",
      "4  394.12   5.21  28.7  \n"
     ]
    }
   ],
   "source": [
    "import numpy as np\n",
    "import pandas as pd\n",
    "\n",
    "df=pd.read_excel(\"housing.xls\")\n",
    "df.columns=['CRIM','ZN','INDUS','CHAS','NOX','RM','AGE','DIS','RAD','TAX','PTRATIO','B','LSTAT','MEDV']\n",
    "print(df.head())"
   ]
  },
  {
   "cell_type": "code",
   "execution_count": 3,
   "metadata": {},
   "outputs": [
    {
     "name": "stderr",
     "output_type": "stream",
     "text": [
      "C:\\ProgramData\\Anaconda3\\lib\\site-packages\\seaborn\\axisgrid.py:2065: UserWarning: The `size` parameter has been renamed to `height`; pleaes update your code.\n",
      "  warnings.warn(msg, UserWarning)\n"
     ]
    },
    {
     "data": {
      "text/plain": [
       "<Figure size 1250x1250 with 30 Axes>"
      ]
     },
     "metadata": {},
     "output_type": "display_data"
    }
   ],
   "source": [
    "import seaborn as sns\n",
    "import matplotlib.pyplot as plt\n",
    "\n",
    "cols=['LSTAT','INDUS','NOX','RM','MEDV']\n",
    "sns.pairplot(df[cols],size=2.5)\n",
    "plt.tight_layout()\n",
    "plt.show()"
   ]
  },
  {
   "cell_type": "code",
   "execution_count": 4,
   "metadata": {},
   "outputs": [],
   "source": [
    "from sklearn.model_selection import train_test_split\n",
    "X=df.iloc[:,:-1].values\n",
    "y=df['MEDV'].values\n",
    "\n",
    "X_train,X_test,y_train,y_test=train_test_split(X,y,test_size=0.5,random_state=0)"
   ]
  },
  {
   "cell_type": "code",
   "execution_count": 5,
   "metadata": {},
   "outputs": [
    {
     "name": "stdout",
     "output_type": "stream",
     "text": [
      "Slope :-0.107\n",
      "Intercept : 36.635\n"
     ]
    }
   ],
   "source": [
    "from sklearn.linear_model import LinearRegression\n",
    "\n",
    "slr=LinearRegression()\n",
    "slr.fit(X,y)\n",
    "print(\"Slope :%.3f\"%slr.coef_[0])\n",
    "print(\"Intercept : %.3f\"%slr.intercept_)"
   ]
  },
  {
   "cell_type": "code",
   "execution_count": 6,
   "metadata": {},
   "outputs": [
    {
     "name": "stdout",
     "output_type": "stream",
     "text": [
      "MSE test : 21.866\n",
      "R2 score : 0.741\n"
     ]
    }
   ],
   "source": [
    "y_test_pred=slr.predict(X)\n",
    "from sklearn.metrics import mean_squared_error\n",
    "t_test=mean_squared_error(y,y_test_pred)\n",
    "print(\"MSE test : %.3f\"%t_test)\n",
    "\n",
    "\n",
    "from sklearn.metrics import r2_score\n",
    "t_test1=r2_score(y,y_test_pred)\n",
    "print(\"R2 score : %.3f\"%t_test1)\n"
   ]
  },
  {
   "cell_type": "markdown",
   "metadata": {},
   "source": [
    "# Ridge Regression\n"
   ]
  },
  {
   "cell_type": "code",
   "execution_count": 7,
   "metadata": {},
   "outputs": [
    {
     "name": "stdout",
     "output_type": "stream",
     "text": [
      "Slope :-0.107\n",
      "Intercept : 36.635\n"
     ]
    }
   ],
   "source": [
    "\n",
    "from sklearn.linear_model import Ridge\n",
    "\n",
    "ridge=Ridge()\n",
    "ridge=LinearRegression()\n",
    "ridge.fit(X,y)\n",
    "print(\"Slope :%.3f\"%ridge.coef_[0])\n",
    "print(\"Intercept : %.3f\"%ridge.intercept_)"
   ]
  },
  {
   "cell_type": "code",
   "execution_count": 8,
   "metadata": {},
   "outputs": [
    {
     "name": "stdout",
     "output_type": "stream",
     "text": [
      "MSE test : 21.866\n",
      "R2 score : 0.741\n"
     ]
    }
   ],
   "source": [
    "y_test_pred=ridge.predict(X)\n",
    "from sklearn.metrics import mean_squared_error\n",
    "t_test=mean_squared_error(y,y_test_pred)\n",
    "print(\"MSE test : %.3f\"%t_test)\n",
    "\n",
    "\n",
    "from sklearn.metrics import r2_score\n",
    "t_test1=r2_score(y,y_test_pred)\n",
    "print(\"R2 score : %.3f\"%t_test1)"
   ]
  },
  {
   "cell_type": "markdown",
   "metadata": {},
   "source": [
    "\n",
    "# Lasso"
   ]
  },
  {
   "cell_type": "code",
   "execution_count": 33,
   "metadata": {},
   "outputs": [
    {
     "name": "stdout",
     "output_type": "stream",
     "text": [
      "Slope :-0.063\n",
      "Intercept : 41.277\n",
      "MSE test : 26.749\n",
      "R2 score : 0.684\n"
     ]
    }
   ],
   "source": [
    "from sklearn.linear_model import Lasso\n",
    "\n",
    "lasso=Lasso()\n",
    "#lasso=LinearRegression()\n",
    "lasso.fit(X,y)\n",
    "print(\"Slope :%.3f\"%lasso.coef_[0])\n",
    "print(\"Intercept : %.3f\"%lasso.intercept_)\n",
    "\n",
    "y_test_pred=lasso.predict(X)\n",
    "from sklearn.metrics import mean_squared_error\n",
    "t_test=mean_squared_error(y,y_test_pred)\n",
    "print(\"MSE test : %.3f\"%t_test)\n",
    "\n",
    "\n",
    "from sklearn.metrics import r2_score\n",
    "t_test1=r2_score(y,y_test_pred)\n",
    "print(\"R2 score : %.3f\"%t_test1)"
   ]
  },
  {
   "cell_type": "code",
   "execution_count": 34,
   "metadata": {},
   "outputs": [
    {
     "name": "stdout",
     "output_type": "stream",
     "text": [
      "Slope :-0.107\n",
      "Intercept : 36.635\n",
      "MSE test : 26.435\n",
      "R2 score : 0.687\n"
     ]
    }
   ],
   "source": [
    "from sklearn.linear_model import ElasticNet\n",
    "\n",
    "elastic=ElasticNet()\n",
    "#elastic=LinearRegression()\n",
    "elastic.fit(X,y)\n",
    "print(\"Slope :%.3f\"%elastic.coef_[0])\n",
    "print(\"Intercept : %.3f\"%elastic.intercept_)\n",
    "\n",
    "y_test_pred=elastic.predict(X)\n",
    "from sklearn.metrics import mean_squared_error\n",
    "t_test=mean_squared_error(y,y_test_pred)\n",
    "print(\"MSE test : %.3f\"%t_test)\n",
    "\n",
    "\n",
    "from sklearn.metrics import r2_score\n",
    "t_test1=r2_score(y,y_test_pred)\n",
    "print(\"R2 score : %.3f\"%t_test1)"
   ]
  },
  {
   "cell_type": "code",
   "execution_count": null,
   "metadata": {},
   "outputs": [],
   "source": []
  },
  {
   "cell_type": "code",
   "execution_count": null,
   "metadata": {},
   "outputs": [],
   "source": []
  }
 ],
 "metadata": {
  "kernelspec": {
   "display_name": "Python 3",
   "language": "python",
   "name": "python3"
  },
  "language_info": {
   "codemirror_mode": {
    "name": "ipython",
    "version": 3
   },
   "file_extension": ".py",
   "mimetype": "text/x-python",
   "name": "python",
   "nbconvert_exporter": "python",
   "pygments_lexer": "ipython3",
   "version": "3.7.3"
  }
 },
 "nbformat": 4,
 "nbformat_minor": 2
}
